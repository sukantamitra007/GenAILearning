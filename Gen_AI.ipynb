{
  "nbformat": 4,
  "nbformat_minor": 0,
  "metadata": {
    "colab": {
      "provenance": [],
      "authorship_tag": "ABX9TyOgXHnrzqqOlVNfTugXQLe9",
      "include_colab_link": true
    },
    "kernelspec": {
      "name": "python3",
      "display_name": "Python 3"
    },
    "language_info": {
      "name": "python"
    }
  },
  "cells": [
    {
      "cell_type": "markdown",
      "metadata": {
        "id": "view-in-github",
        "colab_type": "text"
      },
      "source": [
        "<a href=\"https://colab.research.google.com/github/sukantamitra007/GenAILearning/blob/main/Gen_AI.ipynb\" target=\"_parent\"><img src=\"https://colab.research.google.com/assets/colab-badge.svg\" alt=\"Open In Colab\"/></a>"
      ]
    },
    {
      "cell_type": "markdown",
      "source": [
        "Setting up python environment"
      ],
      "metadata": {
        "id": "ezyxkxnFeRch"
      }
    },
    {
      "cell_type": "code",
      "execution_count": null,
      "metadata": {
        "id": "-MkvuU1bdpEf"
      },
      "outputs": [],
      "source": [
        "!pip install transformers[sentencepiece] #comes with all the required dependencies"
      ]
    },
    {
      "cell_type": "code",
      "source": [
        " #make sure the package was correctly installed by importing it within your Python runtime\n",
        " import transformers"
      ],
      "metadata": {
        "id": "qrnpZIlXd3xv"
      },
      "execution_count": 2,
      "outputs": []
    },
    {
      "cell_type": "markdown",
      "source": [
        "Zero-shot classification Example."
      ],
      "metadata": {
        "id": "wCm3K337nlvd"
      }
    },
    {
      "cell_type": "code",
      "source": [
        "from transformers import pipeline #It connects a model with its necessary preprocessing and postprocessing steps\n",
        "\n",
        "classifier = pipeline(\"zero-shot-classification\") #you don't need to fine tuned it on your data to use it.\n",
        "classifier(\n",
        "    #\"This is a course about the Transformers library\",\n",
        "    \"BJP and TMC are fighting for locksobha election\",\n",
        "    candidate_labels=[\"education\", \"politics\", \"business\"],\n",
        ")"
      ],
      "metadata": {
        "id": "iv3rU0t6nHsl"
      },
      "execution_count": null,
      "outputs": []
    },
    {
      "cell_type": "markdown",
      "source": [
        "Text generation model"
      ],
      "metadata": {
        "id": "9U_D0crboSfM"
      }
    },
    {
      "cell_type": "code",
      "source": [
        "from transformers import pipeline\n",
        "\n",
        "generator = pipeline(\"text-generation\") #THi is used for auto prompt use case\n",
        "generator(\"In this course, we will teach you how to\")\n"
      ],
      "metadata": {
        "id": "U60V_vNfoPHV"
      },
      "execution_count": null,
      "outputs": []
    },
    {
      "cell_type": "code",
      "source": [
        "from transformers import pipeline\n",
        "\n",
        "generator = pipeline(\"text-generation\", model=\"distilgpt2\")\n",
        "generator(\n",
        "    \"In this course, we will teach you how to\",\n",
        "    max_length=30,\n",
        "    num_return_sequences=2,\n",
        ")"
      ],
      "metadata": {
        "id": "0H_BdnRUoMoQ"
      },
      "execution_count": null,
      "outputs": []
    },
    {
      "cell_type": "markdown",
      "source": [
        "Mask filling"
      ],
      "metadata": {
        "id": "1Nczhhd-sxWG"
      }
    },
    {
      "cell_type": "code",
      "source": [
        "from transformers import pipeline\n",
        "\n",
        "unmasker = pipeline(\"fill-mask\",model='google-bert/bert-base-cased')\n",
        "unmasker(\"This course will teach you all about [MASK] models.\", top_k=2)"
      ],
      "metadata": {
        "id": "lz-U_oNns2Du"
      },
      "execution_count": null,
      "outputs": []
    },
    {
      "cell_type": "markdown",
      "source": [],
      "metadata": {
        "id": "t2L8NcZXt77c"
      }
    },
    {
      "cell_type": "markdown",
      "source": [
        "Named entity recognition"
      ],
      "metadata": {
        "id": "Mz-Yob51uFti"
      }
    },
    {
      "cell_type": "code",
      "source": [
        "from transformers import pipeline\n",
        "\n",
        "ner = pipeline(\"ner\", grouped_entities=True) #grouped_entities=True in the pipeline creation function to tell the pipeline to regroup together the parts of the sentence that correspond to the same entity:\n",
        "ner(\"My name is Sylvain and I work at Hugging Face in Brooklyn.\")"
      ],
      "metadata": {
        "id": "rhH3boJWuGlm"
      },
      "execution_count": null,
      "outputs": []
    }
  ]
}