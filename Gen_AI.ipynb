{
  "nbformat": 4,
  "nbformat_minor": 0,
  "metadata": {
    "colab": {
      "provenance": [],
      "authorship_tag": "ABX9TyOsRf9PuLqP06GUe82YXn7v",
      "include_colab_link": true
    },
    "kernelspec": {
      "name": "python3",
      "display_name": "Python 3"
    },
    "language_info": {
      "name": "python"
    }
  },
  "cells": [
    {
      "cell_type": "markdown",
      "metadata": {
        "id": "view-in-github",
        "colab_type": "text"
      },
      "source": [
        "<a href=\"https://colab.research.google.com/github/sukantamitra007/GenAILearning/blob/TransformerModel/Gen_AI.ipynb\" target=\"_parent\"><img src=\"https://colab.research.google.com/assets/colab-badge.svg\" alt=\"Open In Colab\"/></a>"
      ]
    },
    {
      "cell_type": "markdown",
      "source": [
        "Setting up python environment"
      ],
      "metadata": {
        "id": "ezyxkxnFeRch"
      }
    },
    {
      "cell_type": "code",
      "execution_count": null,
      "metadata": {
        "id": "-MkvuU1bdpEf"
      },
      "outputs": [],
      "source": [
        "!pip install transformers[sentencepiece] #comes with all the required dependencies"
      ]
    },
    {
      "cell_type": "code",
      "source": [
        " #make sure the package was correctly installed by importing it within your Python runtime\n",
        " import transformers"
      ],
      "metadata": {
        "id": "qrnpZIlXd3xv"
      },
      "execution_count": 2,
      "outputs": []
    }
  ]
}